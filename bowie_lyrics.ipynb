{
 "cells": [
  {
   "cell_type": "code",
   "execution_count": 132,
   "metadata": {},
   "outputs": [],
   "source": [
    "import requests\n",
    "import re\n",
    "import time\n",
    "import pandas as pd\n",
    "import spacy\n",
    "nlp = spacy.load(\"en_core_web_sm\")"
   ]
  },
  {
   "cell_type": "code",
   "execution_count": 67,
   "metadata": {},
   "outputs": [],
   "source": [
    "\"\"\" Create a dict with song titles as keys and the song URL as values \"\"\"\n",
    "\n",
    "url = requests.get(\"https://www.azlyrics.com/b/bowie.html\", timeout=5)\n",
    "t = url.text\n",
    "\n",
    "songlist = re.search(\"songlist = \\[\\r\\n(.*?)\\]\", t, re.DOTALL).group(1)\n",
    "\n",
    "songlist = re.findall(\"\\{(.*?)\\}\", songlist)\n",
    "\n",
    "d = {}\n",
    "\n",
    "for s in songlist:\n",
    "    \n",
    "    # dict[song_title] = song_URL\n",
    "    \n",
    "    d[re.search(\"s\\:\\\"(.*?)\\\"\", s).group(1)] = \"https://www.azlyrics.com/\" + re.search(\"h\\:\\\"(.*?)\\\"\", s).group(1)[2:]\n",
    "\n",
    "# two point fixes for songs under another artist's URL:\n",
    "\n",
    "d['Cosmic Dancer (Live)'] = 'https://www.azlyrics.com/lyrics/morrissey/cosmicdancerlive.html'\n",
    "d['Under Pressure'] = 'https://www.azlyrics.com/lyrics/queen/underpressure.html'"
   ]
  },
  {
   "cell_type": "code",
   "execution_count": 116,
   "metadata": {},
   "outputs": [
    {
     "name": "stdout",
     "output_type": "stream",
     "text": [
      "323\n"
     ]
    }
   ],
   "source": [
    "\"\"\" Create a dict (from Wiki page saved as CSV) with song titles as keys and the song debut year (as int) as values \"\"\"\n",
    "\n",
    "df = pd.read_csv ('wiki_bowie_songs.csv', names=[\"title\",\"year\"])\n",
    "\n",
    "years = {}\n",
    "\n",
    "for index, row in df.iterrows():\n",
    "    years[row[\"title\"].lower()] = row[\"year\"]\n",
    "        \n",
    "# Since there are some inconsistencies between Wikipedia and AZlyrics.com,\n",
    "# create a new dict based on original order/songlist\n",
    "\n",
    "years_new = {}\n",
    "\n",
    "for s in d:\n",
    "    lowercase_song = s.lower()\n",
    "    if lowercase_song in list(years.keys()):\n",
    "        years_new[s] = years[lowercase_song]\n",
    "        \n",
    "# trim original according to keylist of new dict\n",
    "\n",
    "for s in list(d.keys()):\n",
    "    if s not in years_new:\n",
    "        del d[s]\n",
    "    \n",
    "print(len(d))"
   ]
  },
  {
   "cell_type": "code",
   "execution_count": 3,
   "metadata": {},
   "outputs": [],
   "source": [
    "def get_lyrics(lyrics_url):\n",
    "\n",
    "    url = requests.get(lyrics_url, timeout=5)\n",
    "    t = url.text\n",
    "\n",
    "    lyrics = re.search(\"Sorry about that\\. \\-\\-\\>(.*?)\\<\\/div\\>\", t, re.DOTALL).group(1)\n",
    "\n",
    "    lyrics = re.split(\"<br>|\\r|\\n\", lyrics)\n",
    "    lyrics = [x for x in lyrics if x != \"\"]\n",
    "    lyrics = \" \".join(lyrics)\n",
    "\n",
    "    return lyrics"
   ]
  },
  {
   "cell_type": "code",
   "execution_count": null,
   "metadata": {},
   "outputs": [],
   "source": [
    "\"\"\" Get all DB song lyrics from the site and save them to a .txt file \"\"\"\n",
    "\n",
    "f = open(\"db_lyrics.txt\",\"a\", encoding=\"utf8\")\n",
    "\n",
    "for s in list(d.keys())[321:]:\n",
    "    try:\n",
    "        lyrics = get_lyrics(d[s])\n",
    "    except:\n",
    "        print(\"Unable to get lyrics for\" + s + \". Closing file now.\")\n",
    "        f.close()\n",
    "        break\n",
    "        \n",
    "    print(\"Writing lyrics for the song\", s, \".\")\n",
    "        \n",
    "    f.write(s + \" ### \" + lyrics + \" ### \")\n",
    "\n",
    "    time.sleep(30) # so we don't get our IP address blocked again\n",
    "\n",
    "f.close()"
   ]
  },
  {
   "cell_type": "code",
   "execution_count": 125,
   "metadata": {},
   "outputs": [
    {
     "data": {
      "text/plain": [
       "323"
      ]
     },
     "execution_count": 125,
     "metadata": {},
     "output_type": "execute_result"
    }
   ],
   "source": [
    "lyrics_raw = open(\"db_lyrics.txt\", encoding=\"utf8\") # open .txt file containing all lyrics\n",
    "lyrics_raw = lyrics_raw.read()\n",
    "lyrics_raw = lyrics_raw.split(\" ### \") # split with \" ### \" delimiter\n",
    "\n",
    "# lyrics_raw = lyrics_raw[1::2] # no song names, only lyrics\n",
    "len(lyrics_raw)\n",
    "\n",
    "# create a dict of lyrics\n",
    "\n",
    "lyr = {}\n",
    "\n",
    "for x in range(0, len(lyrics_raw)-2, 2):\n",
    "    lyr[lyrics_raw[x]] = lyrics_raw[x+1]\n",
    "    \n",
    "# trim lyrics dict like we trimmed d above\n",
    "\n",
    "for s in list(lyr.keys()):\n",
    "    if s not in years_new:\n",
    "        del lyr[s]\n",
    "        \n",
    "len(lyr)"
   ]
  },
  {
   "cell_type": "code",
   "execution_count": 166,
   "metadata": {},
   "outputs": [],
   "source": [
    "song_info = {\"title\": list(d.keys()), \"year\": list(years_new.values()), \"url\": list(d.values()), \"lyrics\": list(lyr.values())}\n",
    "df = pd.DataFrame(data = song_info)"
   ]
  },
  {
   "cell_type": "code",
   "execution_count": 167,
   "metadata": {},
   "outputs": [],
   "source": [
    "def lemma_count(lyrics):\n",
    "    \n",
    "    \"\"\" Given raw lyrics of a song, return count of unique lemmata \"\"\"\n",
    "\n",
    "    tokens = nlp(lyrics)\n",
    "\n",
    "    lemmata = []\n",
    "\n",
    "    for t in tokens:\n",
    "        if t.is_alpha and not t.is_stop:\n",
    "            wd = str(t)\n",
    "\n",
    "            if wd not in lemmata:\n",
    "                lemmata.append(wd)\n",
    "\n",
    "    return len(lemmata)"
   ]
  },
  {
   "cell_type": "code",
   "execution_count": 169,
   "metadata": {},
   "outputs": [],
   "source": [
    "df['lemma_count'] = df.apply(lambda row: lemma_count(row.lyrics), axis=1)"
   ]
  },
  {
   "cell_type": "code",
   "execution_count": 173,
   "metadata": {},
   "outputs": [
    {
     "name": "stdout",
     "output_type": "stream",
     "text": [
      "AxesSubplot(0.125,0.125;0.775x0.755)\n"
     ]
    },
    {
     "data": {
      "image/png": "[encoded data removed]",
      "text/plain": [
       "<Figure size 432x288 with 1 Axes>"
      ]
     },
     "metadata": {
      "needs_background": "light"
     },
     "output_type": "display_data"
    }
   ],
   "source": [
    "print(df.plot(x='year', y='lemma_count', style='o'))"
   ]
  }
 ],
 "metadata": {
  "kernelspec": {
   "display_name": "Python 3",
   "language": "python",
   "name": "python3"
  },
  "language_info": {
   "codemirror_mode": {
    "name": "ipython",
    "version": 3
   },
   "file_extension": ".py",
   "mimetype": "text/x-python",
   "name": "python",
   "nbconvert_exporter": "python",
   "pygments_lexer": "ipython3",
   "version": "3.7.4"
  }
 },
 "nbformat": 4,
 "nbformat_minor": 2
}
